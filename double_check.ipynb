{
 "cells": [
  {
   "cell_type": "code",
   "execution_count": 1,
   "id": "c6102037",
   "metadata": {},
   "outputs": [
    {
     "name": "stdout",
     "output_type": "stream",
     "text": [
      "OK: no call leakage across splits.\n",
      "train: 15 calls, 218 chunks\n",
      "dev: 2 calls, 26 chunks\n",
      "test: 2 calls, 22 chunks\n",
      "train top calls: [('139__2025_04_10_08_26_51_139_77', 28), ('103__2025_04_19_15_17_55_103_77', 27), ('139__2025_04_14_19_44_40_139_77', 27), ('139__2025_04_16_17_18_09_139_77', 25), ('Jezan__2025_07_28_09_31_00_8410_77', 15)]\n",
      "dev top calls: [('102__2025_03_10_21_21_46_102_77', 14), ('Jezan__2025_07_28_09_31_28_8405_77', 12)]\n",
      "test top calls: [('102__2025_03_10_22_54_42_102_77', 12), ('Jezan__2025_07_28_09_45_30_8403_77', 10)]\n"
     ]
    }
   ],
   "source": [
    "from pathlib import Path\n",
    "from collections import Counter\n",
    "\n",
    "root = Path(\"./data\")  # your --output-dir\n",
    "def read_uris(name):\n",
    "    return [u.strip() for u in (root/\"lists\"/f\"{name}.lst\").read_text().splitlines() if u.strip()]\n",
    "\n",
    "splits = {k: read_uris(k) for k in (\"train\",\"dev\",\"test\")}\n",
    "\n",
    "def call_id(uri):\n",
    "    # URIs look like room__call__chunk_0001 → group by room__call\n",
    "    parts = uri.split(\"__\")\n",
    "    return \"__\".join(parts[:-1])  # room__call\n",
    "\n",
    "# 1) Ensure no call is in more than one split\n",
    "calls = {k: set(call_id(u) for u in v) for k,v in splits.items()}\n",
    "assert calls[\"train\"].isdisjoint(calls[\"dev\"])\n",
    "assert calls[\"train\"].isdisjoint(calls[\"test\"])\n",
    "assert calls[\"dev\"].isdisjoint(calls[\"test\"])\n",
    "print(\"OK: no call leakage across splits.\")\n",
    "\n",
    "# 2) Show how many calls/chunks per split\n",
    "for k in (\"train\",\"dev\",\"test\"):\n",
    "    print(f\"{k}: {len(calls[k])} calls, {len(splits[k])} chunks\")\n",
    "\n",
    "# 3) Inspect imbalance (top calls by #chunks) to see if one big call dominated a split\n",
    "for k in (\"train\",\"dev\",\"test\"):\n",
    "    cnt = Counter(call_id(u) for u in splits[k])\n",
    "    print(f\"{k} top calls:\", cnt.most_common(5))\n"
   ]
  },
  {
   "cell_type": "code",
   "execution_count": 3,
   "id": "a8877a14",
   "metadata": {},
   "outputs": [
    {
     "name": "stdout",
     "output_type": "stream",
     "text": [
      "dev files: 26\n",
      "test files: 22\n",
      "train files: 218\n"
     ]
    },
    {
     "name": "stderr",
     "output_type": "stream",
     "text": [
      "/home/naimah/.local/lib/python3.8/site-packages/pyannote/database/registry.py:499: UserWarning: Replacing existing MyDatabase.SpeakerDiarization.MyProtocol protocol by the one defined in '/home/naimah/Documents/github/pyannote_train/New_train/data/database.yml'.\n",
      "  warnings.warn(\n"
     ]
    }
   ],
   "source": [
    "from pyannote.database import registry, get_protocol\n",
    "registry.load_database(\"/home/naimah/Documents/github/pyannote_train/New_train/data/database.yml\")\n",
    "p = get_protocol(\"MyDatabase.SpeakerDiarization.MyProtocol\")\n",
    "print(\"dev files:\", len(list(p.development())))\n",
    "print(\"test files:\", len(list(p.test())))\n",
    "print(\"train files:\", len(list(p.train())))"
   ]
  },
  {
   "cell_type": "code",
   "execution_count": 8,
   "id": "0a8c513f",
   "metadata": {},
   "outputs": [
    {
     "ename": "AttributeError",
     "evalue": "'Registry' object has no attribute 'reset'",
     "output_type": "error",
     "traceback": [
      "\u001b[0;31m---------------------------------------------------------------------------\u001b[0m",
      "\u001b[0;31mAttributeError\u001b[0m                            Traceback (most recent call last)",
      "Cell \u001b[0;32mIn[8], line 3\u001b[0m\n\u001b[1;32m      1\u001b[0m \u001b[38;5;28;01mfrom\u001b[39;00m \u001b[38;5;21;01mpyannote\u001b[39;00m\u001b[38;5;21;01m.\u001b[39;00m\u001b[38;5;21;01mdatabase\u001b[39;00m \u001b[38;5;28;01mimport\u001b[39;00m registry, get_protocol\n\u001b[1;32m      2\u001b[0m cfg \u001b[38;5;241m=\u001b[39m \u001b[38;5;124m\"\u001b[39m\u001b[38;5;124m/home/naimah/Documents/github/pyannote_train/New_train/data/database.yml\u001b[39m\u001b[38;5;124m\"\u001b[39m\n\u001b[0;32m----> 3\u001b[0m \u001b[43mregistry\u001b[49m\u001b[38;5;241;43m.\u001b[39;49m\u001b[43mreset\u001b[49m()  \u001b[38;5;66;03m# ensure a clean reload\u001b[39;00m\n\u001b[1;32m      4\u001b[0m registry\u001b[38;5;241m.\u001b[39mload_database(cfg)\n\u001b[1;32m      5\u001b[0m p \u001b[38;5;241m=\u001b[39m get_protocol(\u001b[38;5;124m\"\u001b[39m\u001b[38;5;124mMyDatabase.SpeakerDiarization.MyProtocol\u001b[39m\u001b[38;5;124m\"\u001b[39m)\n",
      "\u001b[0;31mAttributeError\u001b[0m: 'Registry' object has no attribute 'reset'"
     ]
    }
   ],
   "source": [
    "from pyannote.database import registry, get_protocol\n",
    "cfg = \"/home/naimah/Documents/github/pyannote_train/New_train/data/database.yml\"\n",
    "registry.reset()  # ensure a clean reload\n",
    "registry.load_database(cfg)\n",
    "p = get_protocol(\"MyDatabase.SpeakerDiarization.MyProtocol\")\n",
    "f = next(iter(p.development()))\n",
    "print(\"database:\", f.get(\"database\"))\n",
    "print(\"uri:\", f.get(\"uri\"))\n",
    "print(\"audio:\", f.get(\"audio\"))\n",
    "print(\"keys:\", sorted(f.keys()))"
   ]
  },
  {
   "cell_type": "code",
   "execution_count": 9,
   "id": "f27d5e62",
   "metadata": {},
   "outputs": [
    {
     "ename": "KeyError",
     "evalue": "'PYANNOTE_DATABASE_CONFIG'",
     "output_type": "error",
     "traceback": [
      "\u001b[0;31m---------------------------------------------------------------------------\u001b[0m",
      "\u001b[0;31mKeyError\u001b[0m                                  Traceback (most recent call last)",
      "Cell \u001b[0;32mIn[9], line 5\u001b[0m\n\u001b[1;32m      2\u001b[0m \u001b[38;5;28;01mfrom\u001b[39;00m \u001b[38;5;21;01mpyannote\u001b[39;00m\u001b[38;5;21;01m.\u001b[39;00m\u001b[38;5;21;01mdatabase\u001b[39;00m \u001b[38;5;28;01mimport\u001b[39;00m registry, FileFinder\n\u001b[1;32m      4\u001b[0m \u001b[38;5;66;03m# when creating the protocol\u001b[39;00m\n\u001b[0;32m----> 5\u001b[0m cfg_path \u001b[38;5;241m=\u001b[39m Path(\u001b[43mos\u001b[49m\u001b[38;5;241;43m.\u001b[39;49m\u001b[43menviron\u001b[49m\u001b[43m[\u001b[49m\u001b[38;5;124;43m\"\u001b[39;49m\u001b[38;5;124;43mPYANNOTE_DATABASE_CONFIG\u001b[39;49m\u001b[38;5;124;43m\"\u001b[39;49m\u001b[43m]\u001b[49m)\n\u001b[1;32m      6\u001b[0m audio_root \u001b[38;5;241m=\u001b[39m cfg_path\u001b[38;5;241m.\u001b[39mparent \u001b[38;5;241m/\u001b[39m \u001b[38;5;124m\"\u001b[39m\u001b[38;5;124maudio\u001b[39m\u001b[38;5;124m\"\u001b[39m\n\u001b[1;32m      7\u001b[0m db_name \u001b[38;5;241m=\u001b[39m args\u001b[38;5;241m.\u001b[39mprotocol\u001b[38;5;241m.\u001b[39msplit(\u001b[38;5;124m\"\u001b[39m\u001b[38;5;124m.\u001b[39m\u001b[38;5;124m\"\u001b[39m, \u001b[38;5;241m1\u001b[39m)[\u001b[38;5;241m0\u001b[39m]  \u001b[38;5;66;03m# \"MyDatabase\"\u001b[39;00m\n",
      "File \u001b[0;32m~/anaconda3/envs/asr-env/lib/python3.8/os.py:675\u001b[0m, in \u001b[0;36m_Environ.__getitem__\u001b[0;34m(self, key)\u001b[0m\n\u001b[1;32m    672\u001b[0m     value \u001b[38;5;241m=\u001b[39m \u001b[38;5;28mself\u001b[39m\u001b[38;5;241m.\u001b[39m_data[\u001b[38;5;28mself\u001b[39m\u001b[38;5;241m.\u001b[39mencodekey(key)]\n\u001b[1;32m    673\u001b[0m \u001b[38;5;28;01mexcept\u001b[39;00m \u001b[38;5;167;01mKeyError\u001b[39;00m:\n\u001b[1;32m    674\u001b[0m     \u001b[38;5;66;03m# raise KeyError with the original key value\u001b[39;00m\n\u001b[0;32m--> 675\u001b[0m     \u001b[38;5;28;01mraise\u001b[39;00m \u001b[38;5;167;01mKeyError\u001b[39;00m(key) \u001b[38;5;28;01mfrom\u001b[39;00m \u001b[38;5;28;01mNone\u001b[39;00m\n\u001b[1;32m    676\u001b[0m \u001b[38;5;28;01mreturn\u001b[39;00m \u001b[38;5;28mself\u001b[39m\u001b[38;5;241m.\u001b[39mdecodevalue(value)\n",
      "\u001b[0;31mKeyError\u001b[0m: 'PYANNOTE_DATABASE_CONFIG'"
     ]
    }
   ],
   "source": [
    "# imports\n",
    "from pyannote.database import registry, FileFinder\n",
    "\n",
    "# when creating the protocol\n",
    "cfg_path = Path(os.environ[\"PYANNOTE_DATABASE_CONFIG\"])\n",
    "audio_root = cfg_path.parent / \"audio\"\n",
    "db_name = args.protocol.split(\".\", 1)[0]  # \"MyDatabase\"\n",
    "\n",
    "pre = {\"audio\": FileFinder(paths={db_name: str(audio_root / \"{uri}.wav\")})}\n",
    "registry.load_database(str(cfg_path))\n",
    "proto = registry.get_protocol(args.protocol, preprocessors=pre)\n"
   ]
  },
  {
   "cell_type": "code",
   "execution_count": null,
   "id": "3150c7f8",
   "metadata": {},
   "outputs": [
    {
     "name": "stderr",
     "output_type": "stream",
     "text": [
      "usage: ipykernel_launcher.py [-h] [--exp-dir EXP_DIR] --wav WAV\n",
      "                             [--rttm-out RTTM_OUT] [--hf-token HF_TOKEN]\n",
      "                             [--override-threshold OVERRIDE_THRESHOLD]\n",
      "                             [--enable-tf32]\n",
      "ipykernel_launcher.py: error: the following arguments are required: --wav\n"
     ]
    },
    {
     "ename": "SystemExit",
     "evalue": "2",
     "output_type": "error",
     "traceback": [
      "An exception has occurred, use %tb to see the full traceback.\n",
      "\u001b[0;31mSystemExit\u001b[0m\u001b[0;31m:\u001b[0m 2\n"
     ]
    },
    {
     "name": "stderr",
     "output_type": "stream",
     "text": [
      "/home/naimah/anaconda3/envs/asr-env/lib/python3.8/site-packages/IPython/core/interactiveshell.py:3516: UserWarning: To exit: use 'exit', 'quit', or Ctrl-D.\n",
      "  warn(\"To exit: use 'exit', 'quit', or Ctrl-D.\", stacklevel=1)\n"
     ]
    },
    {
     "ename": "",
     "evalue": "",
     "output_type": "error",
     "traceback": [
      "\u001b[1;31mThe Kernel crashed while executing code in the current cell or a previous cell. \n",
      "\u001b[1;31mPlease review the code in the cell(s) to identify a possible cause of the failure. \n",
      "\u001b[1;31mClick <a href='https://aka.ms/vscodeJupyterKernelCrash'>here</a> for more info. \n",
      "\u001b[1;31mView Jupyter <a href='command:jupyter.viewOutput'>log</a> for further details."
     ]
    }
   ],
   "source": [
    "from pathlib import Path\n",
    "import os, json, glob, sys\n",
    "import torch\n",
    "from pyannote.audio import Model\n",
    "from pyannote.audio.pipelines import SpeakerDiarization\n",
    "\n",
    "# Optional perf on Ampere+ GPUs\n",
    "try:\n",
    "    torch.set_float32_matmul_precision(\"high\")\n",
    "except Exception:\n",
    "    pass\n",
    "\n",
    "# ---- avoid 401: force anonymous HF access for public models\n",
    "os.environ.pop(\"HF_TOKEN\", None)\n",
    "\n",
    "root = Path(\"./exp\")\n",
    "\n",
    "# 1) load tuned params\n",
    "opt_path = root / \"01_tune_pipeline\" / \"optimizer.json\"\n",
    "if not opt_path.exists():\n",
    "    sys.exit(f\"Missing optimizer.json at: {opt_path}\")\n",
    "opt = json.loads(opt_path.read_text())\n",
    "best_params = opt.get(\"best_params\") or opt.get(\"best\") or opt\n",
    "\n",
    "# auto-nest legacy \"segmentation>threshold\" keys\n",
    "if isinstance(best_params, dict) and any(\">\" in k for k in best_params):\n",
    "    nested = {}\n",
    "    for k, v in best_params.items():\n",
    "        if \">\" in k:\n",
    "            a, b = k.split(\">\", 1)\n",
    "            nested.setdefault(a, {})[b] = v\n",
    "        else:\n",
    "            nested[k] = v\n",
    "    best_params = nested\n",
    "\n",
    "print(\"Best params:\", best_params)\n",
    "\n",
    "# 2) choose checkpoint from 02_finetune_seg (or 01_finetune_seg fallback)\n",
    "ckpts = sorted(glob.glob(str(root / \"02_finetune_seg\" / \"*.ckpt\")))\n",
    "if not ckpts:\n",
    "    ckpts = sorted(glob.glob(str(root / \"01_finetune_seg\" / \"*.ckpt\")))\n",
    "assert ckpts, \"No checkpoint found in 02_finetune_seg/ or 01_finetune_seg/\"\n",
    "best_ckpt = ckpts[-1]\n",
    "print(\"Using checkpoint:\", best_ckpt)\n",
    "\n",
    "# 3) segmentation model (local, so no HF needed)\n",
    "seg_model = Model.from_pretrained(best_ckpt)\n",
    "seg_model.to(torch.device(\"cuda\" if torch.cuda.is_available() else \"cpu\"))\n",
    "\n",
    "# 4) pipeline: force anonymous hub access for the embedding model\n",
    "pipe = SpeakerDiarization(segmentation=seg_model, use_auth_token=False)\n",
    "try:\n",
    "    pipe = pipe.instantiate(best_params)\n",
    "except Exception:\n",
    "    pipe.set_params(**best_params)\n",
    "\n",
    "# 5) run\n",
    "wav = \"data/audio/102__2025_03_10_20_01_18_102_77__2025_03_10_20_01_18_102_77_chunk0.wav\"\n",
    "assert Path(wav).exists(), f\"WAV not found: {wav}\"\n",
    "diar = pipe({\"audio\": wav})\n",
    "print(diar)\n",
    "\n",
    "# 6) save RTTM\n",
    "out_rttm = Path(\"inference_out.rttm\")\n",
    "with out_rttm.open(\"w\") as f:\n",
    "    diar.write_rttm(f)\n",
    "print(\"Saved:\", out_rttm.resolve())\n"
   ]
  }
 ],
 "metadata": {
  "kernelspec": {
   "display_name": "asr-env",
   "language": "python",
   "name": "python3"
  },
  "language_info": {
   "codemirror_mode": {
    "name": "ipython",
    "version": 3
   },
   "file_extension": ".py",
   "mimetype": "text/x-python",
   "name": "python",
   "nbconvert_exporter": "python",
   "pygments_lexer": "ipython3",
   "version": "3.8.18"
  }
 },
 "nbformat": 4,
 "nbformat_minor": 5
}
